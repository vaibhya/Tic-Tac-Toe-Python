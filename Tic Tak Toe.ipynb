{
 "cells": [
  {
   "cell_type": "code",
   "execution_count": null,
   "metadata": {},
   "outputs": [
    {
     "name": "stdout",
     "output_type": "stream",
     "text": [
      "_|_|_\n",
      "_|_|_\n",
      "_|_|_\n",
      "Enter the position form 0-8 m\n",
      "Invalid input\n",
      "Enter the position form 0-8 1\n",
      "_|x|_\n",
      "_|_|_\n",
      "_|_|_\n",
      "Enter the position form 0-8 0\n",
      "o|x|_\n",
      "_|_|_\n",
      "_|_|_\n",
      "Enter the position form 0-8 4\n",
      "o|x|_\n",
      "_|x|_\n",
      "_|_|_\n",
      "Enter the position form 0-8 6\n",
      "o|x|_\n",
      "_|x|_\n",
      "o|_|_\n"
     ]
    }
   ],
   "source": [
    "border = [\"_\"]*9\n",
    "\n",
    "print(border[0]+\"|\"+border[1]+\"|\"+border[2])\n",
    "print(border[3]+\"|\"+border[4]+\"|\"+border[5])\n",
    "print(border[6]+\"|\"+border[7]+\"|\"+border[8])\n",
    "co=0\n",
    "c=0\n",
    "def check():\n",
    "    if border[0]==\"x\" and border[1]==\"x\" and border[2]==\"x\":\n",
    "        return 1\n",
    "    elif border[3]==\"x\" and border[4]==\"x\" and border[5]==\"x\":\n",
    "        return 1\n",
    "    elif border[6]==\"x\" and border[7]==\"x\" and border[8]==\"x\":\n",
    "        return 1\n",
    "    elif border[0]==\"x\" and border[3]==\"x\" and border[6]==\"x\":\n",
    "        return 1\n",
    "    elif border[1]==\"x\" and border[4]==\"x\" and border[7]==\"x\":\n",
    "        return 1\n",
    "    elif border[2]==\"x\" and border[5]==\"x\" and border[8]==\"x\":\n",
    "        return 1\n",
    "    elif border[0]==\"x\" and border[4]==\"x\" and border[8]==\"x\":\n",
    "        return 1\n",
    "    elif border[2]==\"x\" and border[4]==\"x\" and border[6]==\"x\":\n",
    "        return 1\n",
    "    elif border[0]==\"o\" and border[1]==\"o\" and border[2]==\"o\":\n",
    "        return 0\n",
    "    elif border[3]==\"o\" and border[4]==\"o\" and border[5]==\"o\":\n",
    "        return 0\n",
    "    elif border[6]==\"o\" and border[7]==\"o\" and border[8]==\"o\":\n",
    "        return 0\n",
    "    elif border[0]==\"o\" and border[3]==\"o\" and border[6]==\"o\":\n",
    "        return 0\n",
    "    elif border[1]==\"o\" and border[4]==\"o\" and border[7]==\"o\":\n",
    "        return 0\n",
    "    elif border[2]==\"o\" and border[5]==\"o\" and border[8]==\"o\":\n",
    "        return 0\n",
    "    elif border[0]==\"o\" and border[4]==\"o\" and border[8]==\"o\":\n",
    "        return 0\n",
    "    elif border[2]==\"o\" and border[4]==\"o\" and border[6]==\"o\":\n",
    "        return 0\n",
    "        \n",
    "while co!=9:\n",
    "    \n",
    "    co+=1\n",
    "    while 1:\n",
    "        try:\n",
    "            ox = int(input(\"Enter the position form 0-8 \"))\n",
    "            if ox<=8:\n",
    "                if border[ox]==\"x\" or border[ox]==\"o\":\n",
    "                    print(\"Retry....place is taken\")\n",
    "                else:\n",
    "                    if co%2!=0:\n",
    "                        border[ox]=\"x\"\n",
    "                    else:\n",
    "                        border[ox]=\"o\"\n",
    "                    break\n",
    "            else:\n",
    "                print(\"Number is bigger\")\n",
    "        except ValueError:\n",
    "            print(\"Invalid input\")\n",
    "        \n",
    "        \n",
    "            \n",
    "    print(border[0]+\"|\"+border[1]+\"|\"+border[2])\n",
    "    print(border[3]+\"|\"+border[4]+\"|\"+border[5])\n",
    "    print(border[6]+\"|\"+border[7]+\"|\"+border[8])\n",
    "    \n",
    "    ch=check()\n",
    "    if ch==0:\n",
    "        print(\"o wins\")\n",
    "        break\n",
    "    elif ch==1:\n",
    "        print(\"x wins\")\n",
    "        break\n",
    "    else:\n",
    "        if co==9:\n",
    "            print(\"match tied\")\n",
    "            break\n",
    "        else:\n",
    "            continue\n",
    "       "
   ]
  },
  {
   "cell_type": "code",
   "execution_count": 10,
   "metadata": {},
   "outputs": [
    {
     "name": "stdout",
     "output_type": "stream",
     "text": [
      "1\n",
      "2\n",
      "3\n",
      "4\n",
      "5\n",
      "6\n",
      "7\n",
      "8\n",
      "9\n"
     ]
    }
   ],
   "source": [
    "co=0\n",
    "while co!=9:\n",
    "    co+=1\n",
    "    print(co)"
   ]
  },
  {
   "cell_type": "code",
   "execution_count": null,
   "metadata": {},
   "outputs": [],
   "source": []
  }
 ],
 "metadata": {
  "kernelspec": {
   "display_name": "Python 3",
   "language": "python",
   "name": "python3"
  },
  "language_info": {
   "codemirror_mode": {
    "name": "ipython",
    "version": 3
   },
   "file_extension": ".py",
   "mimetype": "text/x-python",
   "name": "python",
   "nbconvert_exporter": "python",
   "pygments_lexer": "ipython3",
   "version": "3.8.2"
  }
 },
 "nbformat": 4,
 "nbformat_minor": 4
}
